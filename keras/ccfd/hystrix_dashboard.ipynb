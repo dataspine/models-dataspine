{
 "cells": [
  {
   "cell_type": "code",
   "execution_count": 9,
   "metadata": {},
   "outputs": [
    {
     "data": {
      "text/html": [
       "\n",
       "<iframe src=\"http://35.231.45.197:7979/hystrix-dashboard/monitor/monitor.html?streams=[%7B\"name\"%3A\"\"%2C\"stream\"%3A\"http%3A%2F%2Fdashboard-turbine%3A8989%2Fturbine.stream\"%2C\"auth\"%3A\"\"%2C\"delay\"%3A\"\"%7D]\" frameborder=\"0\" width=\"300px\" height=\"300px\" seamless></iframe>"
      ],
      "text/plain": [
       "<IPython.core.display.HTML object>"
      ]
     },
     "metadata": {},
     "output_type": "display_data"
    }
   ],
   "source": [
    "%%html\n",
    "\n",
    "<iframe src=\"http://35.231.45.197:7979/hystrix-dashboard/monitor/monitor.html?streams=[%7B\"name\"%3A\"\"%2C\"stream\"%3A\"http%3A%2F%2Fdashboard-turbine%3A8989%2Fturbine.stream\"%2C\"auth\"%3A\"\"%2C\"delay\"%3A\"\"%7D]\" frameborder=\"0\" width=\"300px\" height=\"300px\" seamless></iframe>"
   ]
  },
  {
   "cell_type": "code",
   "execution_count": 15,
   "metadata": {},
   "outputs": [
    {
     "data": {
      "text/html": [
       "\n",
       "<iframe src=\"http://35.231.45.197:7979/hystrix-dashboard/monitor/monitor.html?streams=%5B%7B%22name%22%3A%22%22%2C%22stream%22%3A%22http%3A%2F%2Fdashboard-turbine%3A8989%2Fturbine.stream%22%2C%22auth%22%3A%22%22%2C%22delay%22%3A%22%22%7D%5D\"\n",
       "frameborder=\"0\" height=\"300px\" marginheight=\"200px\" align=\"bottom\">"
      ],
      "text/plain": [
       "<IPython.core.display.HTML object>"
      ]
     },
     "metadata": {},
     "output_type": "display_data"
    }
   ],
   "source": [
    "%%html\n",
    "\n",
    "<iframe src=\"http://35.231.45.197:7979/hystrix-dashboard/monitor/monitor.html?streams=%5B%7B%22name%22%3A%22%22%2C%22stream%22%3A%22http%3A%2F%2Fdashboard-turbine%3A8989%2Fturbine.stream%22%2C%22auth%22%3A%22%22%2C%22delay%22%3A%22%22%7D%5D\"\n",
    "frameborder=\"0\" height=\"300px\" marginheight=\"200px\" align=\"bottom\">"
   ]
  },
  {
   "cell_type": "code",
   "execution_count": null,
   "metadata": {},
   "outputs": [],
   "source": [
    "http://35.231.45.197:7979/hystrix-dashboard/monitor/monitor.html?streams=[%7B%22name%22%3A%22%22%2C%22stream%22%3A%22http%3A%2F%2Fdashboard-turbine%3A8989%2Fturbine.stream%22%2C%22auth%22%3A%22%22%2C%22delay%22%3A%22%22%7D]"
   ]
  }
 ],
 "metadata": {
  "kernelspec": {
   "display_name": "Python 3",
   "language": "python",
   "name": "python3"
  },
  "language_info": {
   "codemirror_mode": {
    "name": "ipython",
    "version": 3
   },
   "file_extension": ".py",
   "mimetype": "text/x-python",
   "name": "python",
   "nbconvert_exporter": "python",
   "pygments_lexer": "ipython3",
   "version": "3.5.4"
  }
 },
 "nbformat": 4,
 "nbformat_minor": 2
}
