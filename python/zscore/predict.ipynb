{
 "cells": [
  {
   "cell_type": "code",
   "execution_count": 1,
   "metadata": {},
   "outputs": [],
   "source": [
    "%%bash\n",
    "\n",
    "pip install -q cli-pipeline==1.3.7"
   ]
  },
  {
   "cell_type": "code",
   "execution_count": 3,
   "metadata": {},
   "outputs": [
    {
     "name": "stdout",
     "output_type": "stream",
     "text": [
      "predict_server_url: http://predict-python-zscore-a.community.pipeline.ai\n",
      "model_type: python\n",
      "model_name: zscore\n",
      "model_tag: a\n",
      "test_request_path: /root/notebooks/25_PipelineAI/python/zscore/data/test_request.json\n",
      "test_request_mime_type: application/json\n",
      "test_response_mime_type: application/json\n",
      "\n",
      "Predicting with file '/root/notebooks/25_PipelineAI/python/zscore/data/test_request.json' using 'http://predict-python-zscore-a.community.pipeline.ai/api/v1/model/predict/python/zscore/a'\n",
      "\n",
      "\n",
      "('{\"outputs\":{\"category\": \"cat_lover\", \"cat_affinity_score\": 3.35, '\n",
      " '\"dog_affinity_score\": 6.35, \"cat_zscore\": 15.124999999999998}}')\n",
      "\n",
      "Success!\n",
      "\n",
      "Request time: 988.474 milliseconds\n",
      "\n"
     ]
    }
   ],
   "source": [
    "%%bash\n",
    "\n",
    "pipeline predict --model-type=python --model-name=zscore --model-tag=a --predict-server-url=http://predict-python-zscore-a.community.pipeline.ai --test-request-path=./data/test_request.json"
   ]
  },
  {
   "cell_type": "code",
   "execution_count": 4,
   "metadata": {},
   "outputs": [
    {
     "name": "stdout",
     "output_type": "stream",
     "text": [
      "{\"outputs\":{\"category\": \"cat_lover\", \"cat_affinity_score\": 3.35, \"dog_affinity_score\": 6.35, \"cat_zscore\": 15.124999999999998}}\n",
      "\n"
     ]
    },
    {
     "name": "stderr",
     "output_type": "stream",
     "text": [
      "  % Total    % Received % Xferd  Average Speed   Time    Time     Time  Current\n",
      "                                 Dload  Upload   Total   Spent    Left  Speed\n",
      "\r",
      "  0     0    0     0    0     0      0      0 --:--:-- --:--:-- --:--:--     0\r",
      "100   562  100   127  100   435   1501   5144 --:--:-- --:--:-- --:--:--  5370\n"
     ]
    }
   ],
   "source": [
    "%%bash\n",
    "\n",
    "curl -X POST -H \"Content-Type: application/json\" \\\n",
    "  -d '[{\"tags\":[\"cat\"],\"prompt\":\"I like cats\",\"weight\":0.4,\"user_score\":1},{\"tags\":[\"cat\"],\"prompt\":\"I like cat movies\",\"weight\":0.5,\"user_score\":2},{\"tags\":[\"cat\"],\"prompt\":\"I like Garfield\",\"weight\":0.65,\"user_score\":3},{\"tags\":[\"dog\"],\"prompt\":\"I like dogs\",\"weight\":0.75,\"user_score\":4},{\"tags\":[\"dog\"],\"prompt\":\"I like dog parks\",\"weight\":0.25,\"user_score\":5},{\"tags\":[\"dog\"],\"prompt\":\"I like Cesar Milan\",\"weight\":0.35,\"user_score\":6}]' \\\n",
    "  http://predict-python-zscore-a.community.pipeline.ai/api/v1/model/predict/python/zscore/a \\\n",
    "  -w \"\\n\\n\""
   ]
  },
  {
   "cell_type": "code",
   "execution_count": 5,
   "metadata": {
    "slideshow": {
     "slide_type": "slide"
    }
   },
   "outputs": [
    {
     "data": {
      "text/html": [
       "\n",
       "<iframe width=100% height=600px src=\"http://hystrix.community.pipeline.ai/hystrix-dashboard/monitor/monitor.html?streams=%5B%7B%22name%22%3A%22%22%2C%22stream%22%3A%22http%3A%2F%2Fturbine.community.pipeline.ai%2Fturbine.stream%22%2C%22auth%22%3A%22%22%2C%22delay%22%3A%22%22%7D%5D\"/>"
      ],
      "text/plain": [
       "<IPython.core.display.HTML object>"
      ]
     },
     "metadata": {},
     "output_type": "display_data"
    }
   ],
   "source": [
    "%%html\n",
    "\n",
    "<iframe width=100% height=600px src=\"http://hystrix.community.pipeline.ai/hystrix-dashboard/monitor/monitor.html?streams=%5B%7B%22name%22%3A%22%22%2C%22stream%22%3A%22http%3A%2F%2Fturbine.community.pipeline.ai%2Fturbine.stream%22%2C%22auth%22%3A%22%22%2C%22delay%22%3A%22%22%7D%5D\"/>"
   ]
  },
  {
   "cell_type": "code",
   "execution_count": null,
   "metadata": {},
   "outputs": [],
   "source": []
  }
 ],
 "metadata": {
  "kernelspec": {
   "display_name": "Python 3",
   "language": "python",
   "name": "python3"
  },
  "language_info": {
   "codemirror_mode": {
    "name": "ipython",
    "version": 3
   },
   "file_extension": ".py",
   "mimetype": "text/x-python",
   "name": "python",
   "nbconvert_exporter": "python",
   "pygments_lexer": "ipython3",
   "version": "3.5.4"
  }
 },
 "nbformat": 4,
 "nbformat_minor": 2
}
