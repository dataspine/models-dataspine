{
 "cells": [
  {
   "cell_type": "code",
   "execution_count": 1,
   "metadata": {},
   "outputs": [],
   "source": [
    "%%bash\n",
    "\n",
    "pip install -q cli-pipeline==1.3.7"
   ]
  },
  {
   "cell_type": "code",
   "execution_count": 2,
   "metadata": {},
   "outputs": [
    {
     "name": "stdout",
     "output_type": "stream",
     "text": [
      "predict_server_url: http://predict-scikit-linear-a.community.pipeline.ai\n",
      "model_type: scikit\n",
      "model_name: linear\n",
      "model_tag: a\n",
      "test_request_path: /root/notebooks/25_PipelineAI/scikit/linear/data/test_request.json\n",
      "test_request_mime_type: application/json\n",
      "test_response_mime_type: application/json\n",
      "\n",
      "Predicting with file '/root/notebooks/25_PipelineAI/scikit/linear/data/test_request.json' using 'http://predict-scikit-linear-a.community.pipeline.ai/api/v1/model/predict/scikit/linear/a'\n",
      "\n",
      "\n",
      "'{\"outputs\":[188.6431188435]}'\n",
      "\n",
      "Success!\n",
      "\n",
      "Request time: 314.313 milliseconds\n",
      "\n"
     ]
    }
   ],
   "source": [
    "%%bash\n",
    "\n",
    "pipeline predict --model-type=scikit --model-name=linear --model-tag=a --predict-server-url=http://predict-scikit-linear-a.community.pipeline.ai --test-request-path=./data/test_request.json"
   ]
  },
  {
   "cell_type": "code",
   "execution_count": 3,
   "metadata": {},
   "outputs": [
    {
     "name": "stdout",
     "output_type": "stream",
     "text": [
      "{\"outputs\":[188.6431188435]}\n",
      "\n"
     ]
    },
    {
     "name": "stderr",
     "output_type": "stream",
     "text": [
      "  % Total    % Received % Xferd  Average Speed   Time    Time     Time  Current\n",
      "                                 Dload  Upload   Total   Spent    Left  Speed\n",
      "\r",
      "  0     0    0     0    0     0      0      0 --:--:-- --:--:-- --:--:--     0\r",
      "100    64  100    28  100    36   1612   2073 --:--:-- --:--:-- --:--:--  2571\n"
     ]
    }
   ],
   "source": [
    "%%bash\n",
    "\n",
    "curl -X POST -H \"Content-Type: application/json\" \\\n",
    "  -d '{\"feature0\": 0.03807590643342410180}' \\\n",
    "  http://predict-scikit-linear-a.community.pipeline.ai/api/v1/model/predict/scikit/linear/a \\\n",
    "  -w \"\\n\\n\""
   ]
  },
  {
   "cell_type": "code",
   "execution_count": 1,
   "metadata": {},
   "outputs": [
    {
     "data": {
      "text/html": [
       "\n",
       "<iframe width=100% height=600px src=\"http://hystrix.community.pipeline.ai/hystrix-dashboard/monitor/monitor.html?streams=%5B%7B%22name%22%3A%22%22%2C%22stream%22%3A%22http%3A%2F%2Fturbine.community.pipeline.ai%2Fturbine.stream%22%2C%22auth%22%3A%22%22%2C%22delay%22%3A%22%22%7D%5D\"/>"
      ],
      "text/plain": [
       "<IPython.core.display.HTML object>"
      ]
     },
     "metadata": {},
     "output_type": "display_data"
    }
   ],
   "source": [
    "%%html\n",
    "\n",
    "<iframe width=100% height=600px src=\"http://hystrix.community.pipeline.ai/hystrix-dashboard/monitor/monitor.html?streams=%5B%7B%22name%22%3A%22%22%2C%22stream%22%3A%22http%3A%2F%2Fturbine.community.pipeline.ai%2Fturbine.stream%22%2C%22auth%22%3A%22%22%2C%22delay%22%3A%22%22%7D%5D\"/>"
   ]
  },
  {
   "cell_type": "code",
   "execution_count": null,
   "metadata": {},
   "outputs": [],
   "source": []
  }
 ],
 "metadata": {
  "kernelspec": {
   "display_name": "Python 3",
   "language": "python",
   "name": "python3"
  },
  "language_info": {
   "codemirror_mode": {
    "name": "ipython",
    "version": 3
   },
   "file_extension": ".py",
   "mimetype": "text/x-python",
   "name": "python",
   "nbconvert_exporter": "python",
   "pygments_lexer": "ipython3",
   "version": "3.5.4"
  }
 },
 "nbformat": 4,
 "nbformat_minor": 2
}
